{
  "nbformat": 4,
  "nbformat_minor": 0,
  "metadata": {
    "kernelspec": {
      "display_name": "Python 3",
      "language": "python",
      "name": "python3"
    },
    "language_info": {
      "codemirror_mode": {
        "name": "ipython",
        "version": 3
      },
      "file_extension": ".py",
      "mimetype": "text/x-python",
      "name": "python",
      "nbconvert_exporter": "python",
      "pygments_lexer": "ipython3",
      "version": "3.7.9"
    },
    "colab": {
      "name": "Image classification.ipynb",
      "provenance": [],
      "toc_visible": true
    },
    "accelerator": "GPU"
  },
  "cells": [
    {
      "cell_type": "markdown",
      "metadata": {
        "id": "yQqpG-QbYhGd"
      },
      "source": [
        "Data downloaded from: https://storage.googleapis.com/openimages/web/extended.html\n",
        "(I only downloaded set 1)"
      ]
    },
    {
      "cell_type": "markdown",
      "metadata": {
        "id": "ErWLuUCtYhGf"
      },
      "source": [
        "## Data preparation\n",
        "\n",
        "Creating trian, valid and test folder with 3 classes.\n",
        "\n",
        "Photos in train per class: 400\n",
        "\n",
        "Photos in valid per class: 100\n",
        "\n",
        "Photos in test per class: 100"
      ]
    },
    {
      "cell_type": "code",
      "metadata": {
        "id": "X5bVfjalYhGg"
      },
      "source": [
        "import tarfile\n",
        "\n",
        "with tarfile.open('extended-crowdsourced-images-0.tar.gz', 'r:gz') as tar:\n",
        "    tar.extractall()"
      ],
      "execution_count": null,
      "outputs": []
    },
    {
      "cell_type": "code",
      "metadata": {
        "id": "eiX3fNhzYhGm",
        "outputId": "ac85696c-b65b-42ea-87c5-d2a590304258"
      },
      "source": [
        "import os\n",
        "\n",
        "image_path = 'crowdsource_images-00000-of-00010'\n",
        "image_names = os.listdir(image_path)\n",
        "image_names = [x[:-4] for x in image_names]\n",
        "image_names[:10]"
      ],
      "execution_count": null,
      "outputs": [
        {
          "output_type": "execute_result",
          "data": {
            "text/plain": [
              "['0004523c0de50d7d',\n",
              " '0008f8841ed74d12',\n",
              " '000909066ae45299',\n",
              " '000c6ce6ab399e09',\n",
              " '000d6e463633c452',\n",
              " '000d8cd104d1511b',\n",
              " '000dc94bce1c855f',\n",
              " '000de0e6841e2258',\n",
              " '000e7de509a6935a',\n",
              " '000f6eb260ff4dee']"
            ]
          },
          "metadata": {
            "tags": []
          },
          "execution_count": 91
        }
      ]
    },
    {
      "cell_type": "code",
      "metadata": {
        "id": "FVjro8uXYhGs",
        "outputId": "da8133ac-240e-4c1b-d02e-e53f25f1bdce"
      },
      "source": [
        "import pandas as pd\n",
        "\n",
        "label_df = pd.read_csv('extended-crowdsourced-image-labels.csv')\n",
        "label_df.head()"
      ],
      "execution_count": null,
      "outputs": [
        {
          "output_type": "execute_result",
          "data": {
            "text/html": [
              "<div>\n",
              "<style scoped>\n",
              "    .dataframe tbody tr th:only-of-type {\n",
              "        vertical-align: middle;\n",
              "    }\n",
              "\n",
              "    .dataframe tbody tr th {\n",
              "        vertical-align: top;\n",
              "    }\n",
              "\n",
              "    .dataframe thead th {\n",
              "        text-align: right;\n",
              "    }\n",
              "</style>\n",
              "<table border=\"1\" class=\"dataframe\">\n",
              "  <thead>\n",
              "    <tr style=\"text-align: right;\">\n",
              "      <th></th>\n",
              "      <th>ImageID</th>\n",
              "      <th>Source</th>\n",
              "      <th>LabelName</th>\n",
              "      <th>Confidence</th>\n",
              "    </tr>\n",
              "  </thead>\n",
              "  <tbody>\n",
              "    <tr>\n",
              "      <th>0</th>\n",
              "      <td>afbe6bee0226cd91</td>\n",
              "      <td>tag-verification</td>\n",
              "      <td>/m/07c52</td>\n",
              "      <td>1</td>\n",
              "    </tr>\n",
              "    <tr>\n",
              "      <th>1</th>\n",
              "      <td>96d65179732b59ec</td>\n",
              "      <td>tag-verification</td>\n",
              "      <td>/m/02w3_2</td>\n",
              "      <td>1</td>\n",
              "    </tr>\n",
              "    <tr>\n",
              "      <th>2</th>\n",
              "      <td>96d65179732b59ec</td>\n",
              "      <td>tag-verification</td>\n",
              "      <td>/m/09j2d</td>\n",
              "      <td>1</td>\n",
              "    </tr>\n",
              "    <tr>\n",
              "      <th>3</th>\n",
              "      <td>96d65179732b59ec</td>\n",
              "      <td>verification</td>\n",
              "      <td>/m/01g317</td>\n",
              "      <td>1</td>\n",
              "    </tr>\n",
              "    <tr>\n",
              "      <th>4</th>\n",
              "      <td>d7d678178da7958e</td>\n",
              "      <td>verification</td>\n",
              "      <td>/m/014f__</td>\n",
              "      <td>0</td>\n",
              "    </tr>\n",
              "  </tbody>\n",
              "</table>\n",
              "</div>"
            ],
            "text/plain": [
              "            ImageID            Source  LabelName  Confidence\n",
              "0  afbe6bee0226cd91  tag-verification   /m/07c52           1\n",
              "1  96d65179732b59ec  tag-verification  /m/02w3_2           1\n",
              "2  96d65179732b59ec  tag-verification   /m/09j2d           1\n",
              "3  96d65179732b59ec      verification  /m/01g317           1\n",
              "4  d7d678178da7958e      verification  /m/014f__           0"
            ]
          },
          "metadata": {
            "tags": []
          },
          "execution_count": 173
        }
      ]
    },
    {
      "cell_type": "code",
      "metadata": {
        "id": "oGYZE8b6YhGw",
        "outputId": "940d0347-c292-4903-d299-4a026d036bc2"
      },
      "source": [
        "class_df = pd.read_csv('class-descriptions-boxable.csv', header=None)\n",
        "class_df.columns = ['label', 'class']\n",
        "class_df.head()"
      ],
      "execution_count": null,
      "outputs": [
        {
          "output_type": "execute_result",
          "data": {
            "text/html": [
              "<div>\n",
              "<style scoped>\n",
              "    .dataframe tbody tr th:only-of-type {\n",
              "        vertical-align: middle;\n",
              "    }\n",
              "\n",
              "    .dataframe tbody tr th {\n",
              "        vertical-align: top;\n",
              "    }\n",
              "\n",
              "    .dataframe thead th {\n",
              "        text-align: right;\n",
              "    }\n",
              "</style>\n",
              "<table border=\"1\" class=\"dataframe\">\n",
              "  <thead>\n",
              "    <tr style=\"text-align: right;\">\n",
              "      <th></th>\n",
              "      <th>label</th>\n",
              "      <th>class</th>\n",
              "    </tr>\n",
              "  </thead>\n",
              "  <tbody>\n",
              "    <tr>\n",
              "      <th>0</th>\n",
              "      <td>/m/011k07</td>\n",
              "      <td>Tortoise</td>\n",
              "    </tr>\n",
              "    <tr>\n",
              "      <th>1</th>\n",
              "      <td>/m/011q46kg</td>\n",
              "      <td>Container</td>\n",
              "    </tr>\n",
              "    <tr>\n",
              "      <th>2</th>\n",
              "      <td>/m/012074</td>\n",
              "      <td>Magpie</td>\n",
              "    </tr>\n",
              "    <tr>\n",
              "      <th>3</th>\n",
              "      <td>/m/0120dh</td>\n",
              "      <td>Sea turtle</td>\n",
              "    </tr>\n",
              "    <tr>\n",
              "      <th>4</th>\n",
              "      <td>/m/01226z</td>\n",
              "      <td>Football</td>\n",
              "    </tr>\n",
              "  </tbody>\n",
              "</table>\n",
              "</div>"
            ],
            "text/plain": [
              "         label       class\n",
              "0    /m/011k07    Tortoise\n",
              "1  /m/011q46kg   Container\n",
              "2    /m/012074      Magpie\n",
              "3    /m/0120dh  Sea turtle\n",
              "4    /m/01226z    Football"
            ]
          },
          "metadata": {
            "tags": []
          },
          "execution_count": 174
        }
      ]
    },
    {
      "cell_type": "code",
      "metadata": {
        "id": "kfEy3uvqYhGy",
        "outputId": "489954fb-a6b9-479c-8630-10498127de15"
      },
      "source": [
        "# images that can be found in our downloaded dataset\n",
        "our_images_df = label_df[label_df['ImageID'].isin(image_names)]\n",
        "our_images_df = our_images_df[our_images_df['Confidence'] == 1]\n",
        "our_images_df = our_images_df.drop_duplicates(subset=['ImageID', 'LabelName'])\n",
        "our_images_df.shape"
      ],
      "execution_count": null,
      "outputs": [
        {
          "output_type": "execute_result",
          "data": {
            "text/plain": [
              "(80746, 4)"
            ]
          },
          "metadata": {
            "tags": []
          },
          "execution_count": 175
        }
      ]
    },
    {
      "cell_type": "code",
      "metadata": {
        "id": "g3vuD6Z_YhG1",
        "outputId": "bef242bf-46cd-4904-e660-59ffc2088141"
      },
      "source": [
        "number_of_images_df = our_images_df.groupby(['LabelName']).count()\n",
        "number_of_images_df = number_of_images_df.sort_values(['ImageID'], ascending=False).drop(columns=['Source', 'Confidence'])\n",
        "number_of_images_df = number_of_images_df.reset_index().rename(columns={'LabelName':'label', 'ImageID':'count'})\n",
        "number_of_images_df.head()"
      ],
      "execution_count": null,
      "outputs": [
        {
          "output_type": "execute_result",
          "data": {
            "text/html": [
              "<div>\n",
              "<style scoped>\n",
              "    .dataframe tbody tr th:only-of-type {\n",
              "        vertical-align: middle;\n",
              "    }\n",
              "\n",
              "    .dataframe tbody tr th {\n",
              "        vertical-align: top;\n",
              "    }\n",
              "\n",
              "    .dataframe thead th {\n",
              "        text-align: right;\n",
              "    }\n",
              "</style>\n",
              "<table border=\"1\" class=\"dataframe\">\n",
              "  <thead>\n",
              "    <tr style=\"text-align: right;\">\n",
              "      <th></th>\n",
              "      <th>label</th>\n",
              "      <th>count</th>\n",
              "    </tr>\n",
              "  </thead>\n",
              "  <tbody>\n",
              "    <tr>\n",
              "      <th>0</th>\n",
              "      <td>/m/01g317</td>\n",
              "      <td>14411</td>\n",
              "    </tr>\n",
              "    <tr>\n",
              "      <th>1</th>\n",
              "      <td>/m/07s6nbt</td>\n",
              "      <td>3154</td>\n",
              "    </tr>\n",
              "    <tr>\n",
              "      <th>2</th>\n",
              "      <td>/m/07j7r</td>\n",
              "      <td>1676</td>\n",
              "    </tr>\n",
              "    <tr>\n",
              "      <th>3</th>\n",
              "      <td>/m/05s2s</td>\n",
              "      <td>1633</td>\n",
              "    </tr>\n",
              "    <tr>\n",
              "      <th>4</th>\n",
              "      <td>/m/01c8br</td>\n",
              "      <td>981</td>\n",
              "    </tr>\n",
              "  </tbody>\n",
              "</table>\n",
              "</div>"
            ],
            "text/plain": [
              "        label  count\n",
              "0   /m/01g317  14411\n",
              "1  /m/07s6nbt   3154\n",
              "2    /m/07j7r   1676\n",
              "3    /m/05s2s   1633\n",
              "4   /m/01c8br    981"
            ]
          },
          "metadata": {
            "tags": []
          },
          "execution_count": 176
        }
      ]
    },
    {
      "cell_type": "code",
      "metadata": {
        "scrolled": true,
        "id": "J93FXXpVYhG4",
        "outputId": "c61b6f47-b505-4f3c-eced-7a427e5ec47d"
      },
      "source": [
        "# Finding out how many pictures we have from each class that have atleast 600 pictures\n",
        "merged = pd.merge(number_of_images_df, class_df, on='label')\n",
        "merged[merged['count'] >= 600]"
      ],
      "execution_count": null,
      "outputs": [
        {
          "output_type": "execute_result",
          "data": {
            "text/html": [
              "<div>\n",
              "<style scoped>\n",
              "    .dataframe tbody tr th:only-of-type {\n",
              "        vertical-align: middle;\n",
              "    }\n",
              "\n",
              "    .dataframe tbody tr th {\n",
              "        vertical-align: top;\n",
              "    }\n",
              "\n",
              "    .dataframe thead th {\n",
              "        text-align: right;\n",
              "    }\n",
              "</style>\n",
              "<table border=\"1\" class=\"dataframe\">\n",
              "  <thead>\n",
              "    <tr style=\"text-align: right;\">\n",
              "      <th></th>\n",
              "      <th>label</th>\n",
              "      <th>count</th>\n",
              "      <th>class</th>\n",
              "    </tr>\n",
              "  </thead>\n",
              "  <tbody>\n",
              "    <tr>\n",
              "      <th>0</th>\n",
              "      <td>/m/01g317</td>\n",
              "      <td>14411</td>\n",
              "      <td>Person</td>\n",
              "    </tr>\n",
              "    <tr>\n",
              "      <th>1</th>\n",
              "      <td>/m/07j7r</td>\n",
              "      <td>1676</td>\n",
              "      <td>Tree</td>\n",
              "    </tr>\n",
              "    <tr>\n",
              "      <th>2</th>\n",
              "      <td>/m/05s2s</td>\n",
              "      <td>1633</td>\n",
              "      <td>Plant</td>\n",
              "    </tr>\n",
              "    <tr>\n",
              "      <th>3</th>\n",
              "      <td>/m/0k1tl</td>\n",
              "      <td>686</td>\n",
              "      <td>Pen</td>\n",
              "    </tr>\n",
              "  </tbody>\n",
              "</table>\n",
              "</div>"
            ],
            "text/plain": [
              "       label  count   class\n",
              "0  /m/01g317  14411  Person\n",
              "1   /m/07j7r   1676    Tree\n",
              "2   /m/05s2s   1633   Plant\n",
              "3   /m/0k1tl    686     Pen"
            ]
          },
          "metadata": {
            "tags": []
          },
          "execution_count": 177
        }
      ]
    },
    {
      "cell_type": "code",
      "metadata": {
        "id": "yAWkSzuPYhG8"
      },
      "source": [
        "# Choosing 3 of our choice\n",
        "three_classes = list(merged['class'].iloc[[0, 2, 3]])\n",
        "three_labels = list(merged['label'].iloc[[0, 2, 3]])"
      ],
      "execution_count": null,
      "outputs": []
    },
    {
      "cell_type": "markdown",
      "metadata": {
        "id": "UHR4LvEgA299"
      },
      "source": [
        "Create folders and copy the pictures into the right ones\n",
        "\n",
        "---\n",
        "\n"
      ]
    },
    {
      "cell_type": "code",
      "metadata": {
        "id": "EZ0A45dcYhG_"
      },
      "source": [
        "if not os.path.isdir('data'):\n",
        "    os.mkdir('data')\n",
        "    os.mkdir(os.path.join('data', 'train'))\n",
        "    os.mkdir(os.path.join('data', 'valid'))\n",
        "    os.mkdir(os.path.join('data', 'test'))\n",
        "    for i in range(3):\n",
        "        os.mkdir(os.path.join('data', 'train', three_classes[i]))\n",
        "        os.mkdir(os.path.join('data', 'valid', three_classes[i]))\n",
        "        os.mkdir(os.path.join('data', 'test', three_classes[i]))"
      ],
      "execution_count": null,
      "outputs": []
    },
    {
      "cell_type": "code",
      "metadata": {
        "id": "jL66bm60YhHC"
      },
      "source": [
        "import shutil\n",
        "\n",
        "def copy_images(image_ids, from_p, to_p):\n",
        "    for image_id in image_ids:\n",
        "        from_path = os.path.join(from_p, image_id + '.jpg')\n",
        "        to_path = os.path.join(os.path.join(to_p, image_id + '.jpg'))\n",
        "        shutil.copyfile(from_path, to_path)\n",
        "\n",
        "for i in range(3):\n",
        "    image_ids = list(our_images_df[our_images_df['LabelName'] == three_labels[i]]['ImageID'][:600])\n",
        "    \n",
        "    copy_images(image_ids[:400], image_path, os.path.join('data', 'train', three_classes[i]))\n",
        "    copy_images(image_ids[400:500], image_path, os.path.join('data', 'valid', three_classes[i]))\n",
        "    copy_images(image_ids[500:], image_path, os.path.join('data', 'test', three_classes[i]))"
      ],
      "execution_count": null,
      "outputs": []
    },
    {
      "cell_type": "markdown",
      "metadata": {
        "id": "WW28jsWNYhHE"
      },
      "source": [
        "## Creating and training the model"
      ]
    },
    {
      "cell_type": "code",
      "metadata": {
        "id": "ypFHGr0beeO5"
      },
      "source": [
        "# This is only here for me to run from colab\n",
        "\n",
        "import shutil, os, zipfile\n",
        "\n",
        "COLAB = True\n",
        "if COLAB:\n",
        "  DIR = '/content/drive/My Drive/Colab Notebooks/Deep learning/Image transfer learning'\n",
        "  shutil.copyfile(os.path.join(DIR, 'data.zip'), 'data.zip')\n",
        "  with zipfile.ZipFile('data.zip', 'r') as zip_ref:\n",
        "    zip_ref.extractall()"
      ],
      "execution_count": 4,
      "outputs": []
    },
    {
      "cell_type": "code",
      "metadata": {
        "id": "_zXX0VTCYhHF"
      },
      "source": [
        "# Hyperparameters\n",
        "\n",
        "NUM_CLASSES = 3\n",
        "IMAGE_SIZE = (224, 224)\n",
        "BATCH_SIZE = 32\n",
        "\n",
        "LR = 0.0001\n",
        "TRAIN_EPOCHS = 20\n",
        "TUNE_EPOCHS = 5\n",
        "DROPOUT = 0.2\n",
        "\n",
        "PATIENCE = 3\n",
        "SAVED_MODEL_PATH = 'model.hdf5'\n",
        "\n",
        "FINE_TUNE_FROM = 125\n",
        "\n",
        "IMAGE_SHAPE = IMAGE_SIZE + (3,)"
      ],
      "execution_count": 3,
      "outputs": []
    },
    {
      "cell_type": "markdown",
      "metadata": {
        "id": "XC6ZcxAQ96S1"
      },
      "source": [
        "Creating datagenerators"
      ]
    },
    {
      "cell_type": "code",
      "metadata": {
        "id": "KboOIjxOYhHH",
        "outputId": "7c73543d-676b-4e26-b1b5-cf30edb5fae7",
        "colab": {
          "base_uri": "https://localhost:8080/"
        }
      },
      "source": [
        "from tensorflow.keras.preprocessing.image import ImageDataGenerator\n",
        "from tensorflow.keras.applications import ResNet50\n",
        "from tensorflow.keras.applications.resnet import preprocess_input\n",
        "\n",
        "# no special data augmentation because the pictures are already quite tricky\n",
        "datagen = ImageDataGenerator(preprocessing_function=preprocess_input)\n",
        "\n",
        "train_gen = datagen.flow_from_directory('data/train',\n",
        "                                       target_size=IMAGE_SIZE,\n",
        "                                       batch_size=BATCH_SIZE,\n",
        "                                       shuffle=True)\n",
        "valid_gen = datagen.flow_from_directory('data/valid',\n",
        "                                       target_size=IMAGE_SIZE,\n",
        "                                       batch_size=BATCH_SIZE,\n",
        "                                       shuffle=True)\n",
        "test_gen = datagen.flow_from_directory('data/test',\n",
        "                                       target_size=IMAGE_SIZE,\n",
        "                                       batch_size=BATCH_SIZE,\n",
        "                                       shuffle=False)"
      ],
      "execution_count": 4,
      "outputs": [
        {
          "output_type": "stream",
          "text": [
            "Found 1200 images belonging to 3 classes.\n",
            "Found 300 images belonging to 3 classes.\n",
            "Found 300 images belonging to 3 classes.\n"
          ],
          "name": "stdout"
        }
      ]
    },
    {
      "cell_type": "markdown",
      "metadata": {
        "id": "_hFm2y_t-Sft"
      },
      "source": [
        "Creating the model"
      ]
    },
    {
      "cell_type": "code",
      "metadata": {
        "id": "USt6NlTyYhHK"
      },
      "source": [
        "from tensorflow.keras import Input, Model\n",
        "from tensorflow.keras.layers import GlobalAveragePooling2D, Dense, Dropout\n",
        "from tensorflow.keras.optimizers import Adam\n",
        "\n",
        "base_model = ResNet50(input_shape=IMAGE_SHAPE, include_top=False)\n",
        "base_model.trainable = False\n",
        "\n",
        "inputs = Input(shape=IMAGE_SHAPE)\n",
        "x = base_model(inputs, training=False)\n",
        "x = GlobalAveragePooling2D()(x)\n",
        "x = Dropout(DROPOUT)(x)\n",
        "outputs = Dense(NUM_CLASSES, activation='softmax')(x)\n",
        "model = Model(inputs, outputs)\n",
        "\n",
        "model.compile(optimizer=Adam(lr=LR),\n",
        "              loss='categorical_crossentropy',\n",
        "              metrics=['accuracy'])"
      ],
      "execution_count": 5,
      "outputs": []
    },
    {
      "cell_type": "markdown",
      "metadata": {
        "id": "uzwCksQq-XyV"
      },
      "source": [
        "Training the model"
      ]
    },
    {
      "cell_type": "code",
      "metadata": {
        "id": "kwMOD4yMliLr",
        "outputId": "9b23af08-2752-4c12-c872-a657cb31440d",
        "colab": {
          "base_uri": "https://localhost:8080/"
        }
      },
      "source": [
        "from tensorflow.keras.callbacks import TensorBoard, EarlyStopping, ModelCheckpoint\n",
        "\n",
        "def get_callbacks():\n",
        "  log_dir = 'logs/'\n",
        "\n",
        "  tb = TensorBoard(log_dir=log_dir, histogram_freq=1)\n",
        "  early_stopping = EarlyStopping(patience=PATIENCE, verbose=0)\n",
        "  checkpointer = ModelCheckpoint(filepath=SAVED_MODEL_PATH, save_best_only=True, verbose=0)\n",
        "\n",
        "  return [tb, early_stopping, checkpointer]\n",
        "\n",
        "STEP_SIZE_TRAIN = train_gen.n//train_gen.batch_size\n",
        "STEP_SIZE_VALID = valid_gen.n//valid_gen.batch_size\n",
        "\n",
        "history = model.fit(train_gen,\n",
        "                    steps_per_epoch=STEP_SIZE_TRAIN,\n",
        "                    validation_data=valid_gen,\n",
        "                    validation_steps=STEP_SIZE_VALID,\n",
        "                    epochs=TRAIN_EPOCHS,\n",
        "                    callbacks=get_callbacks())"
      ],
      "execution_count": 6,
      "outputs": [
        {
          "output_type": "stream",
          "text": [
            "Epoch 1/20\n",
            " 1/37 [..............................] - ETA: 0s - loss: 1.5132 - accuracy: 0.3438WARNING:tensorflow:From /usr/local/lib/python3.6/dist-packages/tensorflow/python/ops/summary_ops_v2.py:1277: stop (from tensorflow.python.eager.profiler) is deprecated and will be removed after 2020-07-01.\n",
            "Instructions for updating:\n",
            "use `tf.profiler.experimental.stop` instead.\n",
            "37/37 [==============================] - 36s 968ms/step - loss: 1.2032 - accuracy: 0.4872 - val_loss: 0.8210 - val_accuracy: 0.6458\n",
            "Epoch 2/20\n",
            "37/37 [==============================] - 35s 943ms/step - loss: 0.7515 - accuracy: 0.6832 - val_loss: 0.6035 - val_accuracy: 0.7396\n",
            "Epoch 3/20\n",
            "37/37 [==============================] - 35s 952ms/step - loss: 0.5587 - accuracy: 0.7740 - val_loss: 0.4647 - val_accuracy: 0.8056\n",
            "Epoch 4/20\n",
            "37/37 [==============================] - 35s 948ms/step - loss: 0.4365 - accuracy: 0.8382 - val_loss: 0.4246 - val_accuracy: 0.8264\n",
            "Epoch 5/20\n",
            "37/37 [==============================] - 35s 947ms/step - loss: 0.4054 - accuracy: 0.8553 - val_loss: 0.3809 - val_accuracy: 0.8472\n",
            "Epoch 6/20\n",
            "37/37 [==============================] - 35s 938ms/step - loss: 0.3476 - accuracy: 0.8750 - val_loss: 0.3471 - val_accuracy: 0.8715\n",
            "Epoch 7/20\n",
            "37/37 [==============================] - 35s 942ms/step - loss: 0.3200 - accuracy: 0.8793 - val_loss: 0.3265 - val_accuracy: 0.8750\n",
            "Epoch 8/20\n",
            "37/37 [==============================] - 35s 934ms/step - loss: 0.3043 - accuracy: 0.8861 - val_loss: 0.3291 - val_accuracy: 0.8681\n",
            "Epoch 9/20\n",
            "37/37 [==============================] - 35s 942ms/step - loss: 0.2783 - accuracy: 0.8921 - val_loss: 0.3059 - val_accuracy: 0.8785\n",
            "Epoch 10/20\n",
            "37/37 [==============================] - 35s 942ms/step - loss: 0.2505 - accuracy: 0.9033 - val_loss: 0.2912 - val_accuracy: 0.8819\n",
            "Epoch 11/20\n",
            "37/37 [==============================] - 35s 935ms/step - loss: 0.2517 - accuracy: 0.9024 - val_loss: 0.2924 - val_accuracy: 0.8750\n",
            "Epoch 12/20\n",
            "37/37 [==============================] - 35s 945ms/step - loss: 0.2457 - accuracy: 0.9050 - val_loss: 0.2885 - val_accuracy: 0.8750\n",
            "Epoch 13/20\n",
            "37/37 [==============================] - 35s 952ms/step - loss: 0.2142 - accuracy: 0.9229 - val_loss: 0.2870 - val_accuracy: 0.8715\n",
            "Epoch 14/20\n",
            "37/37 [==============================] - 35s 944ms/step - loss: 0.1947 - accuracy: 0.9255 - val_loss: 0.2729 - val_accuracy: 0.8819\n",
            "Epoch 15/20\n",
            "37/37 [==============================] - 35s 944ms/step - loss: 0.2319 - accuracy: 0.9058 - val_loss: 0.2528 - val_accuracy: 0.8889\n",
            "Epoch 16/20\n",
            "37/37 [==============================] - 35s 937ms/step - loss: 0.2053 - accuracy: 0.9264 - val_loss: 0.2733 - val_accuracy: 0.8819\n",
            "Epoch 17/20\n",
            "37/37 [==============================] - 35s 936ms/step - loss: 0.2006 - accuracy: 0.9298 - val_loss: 0.2673 - val_accuracy: 0.8854\n",
            "Epoch 18/20\n",
            "37/37 [==============================] - 34s 932ms/step - loss: 0.1815 - accuracy: 0.9315 - val_loss: 0.2681 - val_accuracy: 0.8819\n"
          ],
          "name": "stdout"
        }
      ]
    },
    {
      "cell_type": "code",
      "metadata": {
        "id": "K7vf6i0CvhPi"
      },
      "source": [
        "import pandas as pd\n",
        "import seaborn as sns\n",
        "import matplotlib.pyplot as plt\n",
        "\n",
        "def plot_metrics(histories):\n",
        "  '''\n",
        "  Function for plotting the loss and accuracy of models that we run.\n",
        "  So its not only visible from tensorboard.\n",
        "  '''\n",
        "  \n",
        "  acc, val_acc, loss, val_loss = [], [], [], []\n",
        "  for history in histories:\n",
        "    acc += history.history['accuracy']\n",
        "    val_acc += history.history['val_accuracy']\n",
        "\n",
        "    loss += history.history['loss']\n",
        "    val_loss += history.history['val_loss']\n",
        "\n",
        "  epochs = [x+1 for x in range(len(acc))]\n",
        "\n",
        "  chart1, ax1 = plt.subplots()\n",
        "  acc_data = pd.DataFrame({'epoch':epochs, 'train_acc':acc, 'valid_acc':val_acc})\n",
        "  sns.lineplot(x='epoch', y='value', hue='variable', data=pd.melt(acc_data, ['epoch']), ax=ax1)\n",
        "\n",
        "  chart2, ax2 = plt.subplots()\n",
        "  loss_data = pd.DataFrame({'epoch':epochs, 'train_loss':loss, 'valid_loss':val_loss})\n",
        "  sns.lineplot(x='epoch', y='value', hue='variable', data=pd.melt(loss_data, ['epoch']))\n",
        "\n",
        "  return [chart1, chart2]"
      ],
      "execution_count": 8,
      "outputs": []
    },
    {
      "cell_type": "code",
      "metadata": {
        "id": "zF75a8dq4o5V",
        "outputId": "4ffea34e-3185-437d-8afe-5b3f228dfded",
        "colab": {
          "base_uri": "https://localhost:8080/",
          "height": 558
        }
      },
      "source": [
        "plot_metrics([history])"
      ],
      "execution_count": 9,
      "outputs": [
        {
          "output_type": "execute_result",
          "data": {
            "text/plain": [
              "[<Figure size 432x288 with 1 Axes>, <Figure size 432x288 with 1 Axes>]"
            ]
          },
          "metadata": {
            "tags": []
          },
          "execution_count": 9
        },
        {
          "output_type": "display_data",
          "data": {
            "image/png": "[encoded data removed]",
            "text/plain": [
              "<Figure size 432x288 with 1 Axes>"
            ]
          },
          "metadata": {
            "tags": [],
            "needs_background": "light"
          }
        },
        {
          "output_type": "display_data",
          "data": {
            "image/png": "[encoded data removed]",
            "text/plain": [
              "<Figure size 432x288 with 1 Axes>"
            ]
          },
          "metadata": {
            "tags": [],
            "needs_background": "light"
          }
        }
      ]
    },
    {
      "cell_type": "markdown",
      "metadata": {
        "id": "6W4gW4gC_mgt"
      },
      "source": [
        "Unfreeze some of the layers of the pretrained ResNet model and fine tune the model"
      ]
    },
    {
      "cell_type": "code",
      "metadata": {
        "id": "AhRXBPh5x-0t",
        "outputId": "f5d9001f-4e88-4edd-b735-c568f8fcac1f",
        "colab": {
          "base_uri": "https://localhost:8080/"
        }
      },
      "source": [
        "# Reload best model from previous train\n",
        "model.load_weights(SAVED_MODEL_PATH)\n",
        "\n",
        "base_model.trainable = True\n",
        "\n",
        "# Freeze all the layers before the `FINE_TUNE_FROM` layer\n",
        "for layer in base_model.layers[:FINE_TUNE_FROM]:\n",
        "  layer.trainable = False\n",
        "\n",
        "model.compile(optimizer=Adam(lr=LR/10),\n",
        "              loss='categorical_crossentropy',\n",
        "              metrics=['accuracy'])\n",
        "\n",
        "total_epochs =  TRAIN_EPOCHS + TUNE_EPOCHS\n",
        "\n",
        "tune_history = model.fit(train_gen,\n",
        "                         steps_per_epoch=STEP_SIZE_TRAIN,\n",
        "                         validation_data=valid_gen,\n",
        "                         validation_steps=STEP_SIZE_VALID,\n",
        "                         epochs=total_epochs,\n",
        "                         callbacks=get_callbacks(),\n",
        "                         initial_epoch=history.epoch[-1])"
      ],
      "execution_count": 10,
      "outputs": [
        {
          "output_type": "stream",
          "text": [
            "Epoch 18/25\n",
            "37/37 [==============================] - 37s 1s/step - loss: 0.1958 - accuracy: 0.9238 - val_loss: 0.2288 - val_accuracy: 0.9028\n",
            "Epoch 19/25\n",
            "37/37 [==============================] - 35s 945ms/step - loss: 0.0755 - accuracy: 0.9717 - val_loss: 0.2797 - val_accuracy: 0.9028\n",
            "Epoch 20/25\n",
            "37/37 [==============================] - 35s 944ms/step - loss: 0.0376 - accuracy: 0.9846 - val_loss: 0.2749 - val_accuracy: 0.9097\n",
            "Epoch 21/25\n",
            "37/37 [==============================] - 35s 938ms/step - loss: 0.0258 - accuracy: 0.9940 - val_loss: 0.2420 - val_accuracy: 0.9271\n"
          ],
          "name": "stdout"
        }
      ]
    },
    {
      "cell_type": "code",
      "metadata": {
        "id": "Nd8saSZ41HTN",
        "outputId": "32b39013-e9e3-44a4-d8fc-881b0c09b5da",
        "colab": {
          "base_uri": "https://localhost:8080/",
          "height": 558
        }
      },
      "source": [
        "plot_metrics([history, tune_history])"
      ],
      "execution_count": 13,
      "outputs": [
        {
          "output_type": "execute_result",
          "data": {
            "text/plain": [
              "[<Figure size 432x288 with 1 Axes>, <Figure size 432x288 with 1 Axes>]"
            ]
          },
          "metadata": {
            "tags": []
          },
          "execution_count": 13
        },
        {
          "output_type": "display_data",
          "data": {
            "image/png": "[encoded data removed]",
            "text/plain": [
              "<Figure size 432x288 with 1 Axes>"
            ]
          },
          "metadata": {
            "tags": [],
            "needs_background": "light"
          }
        },
        {
          "output_type": "display_data",
          "data": {
            "image/png": "[encoded data removed]",
            "text/plain": [
              "<Figure size 432x288 with 1 Axes>"
            ]
          },
          "metadata": {
            "tags": [],
            "needs_background": "light"
          }
        }
      ]
    },
    {
      "cell_type": "markdown",
      "metadata": {
        "id": "EKDnjAp2B76g"
      },
      "source": [
        "## Final evaluation"
      ]
    },
    {
      "cell_type": "code",
      "metadata": {
        "id": "C5H4JNMt7I7G",
        "outputId": "150c604c-5204-4db2-8703-40558fb63194",
        "colab": {
          "base_uri": "https://localhost:8080/"
        }
      },
      "source": [
        "# Reload best model from previous train\n",
        "model.load_weights(SAVED_MODEL_PATH)\n",
        "\n",
        "loss, accuracy = model.evaluate(test_gen)\n",
        "print(f'Final accuracy on the test set: {round(accuracy*100, 2)}%')"
      ],
      "execution_count": 12,
      "outputs": [
        {
          "output_type": "stream",
          "text": [
            "10/10 [==============================] - 6s 627ms/step - loss: 0.1608 - accuracy: 0.9367\n",
            "Final accuracy on the test set: 93.67%\n"
          ],
          "name": "stdout"
        }
      ]
    }
  ]
}